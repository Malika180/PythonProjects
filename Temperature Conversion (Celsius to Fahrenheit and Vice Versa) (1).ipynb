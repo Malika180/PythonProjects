{
 "cells": [
  {
   "cell_type": "code",
   "execution_count": 6,
   "id": "6b237aaa",
   "metadata": {},
   "outputs": [
    {
     "name": "stdout",
     "output_type": "stream",
     "text": [
      "Choose conversion type:\n",
      "1. Celsius to Fahrenheit\n",
      "2. Fahrenheit to Celsius\n",
      "Enter your choice: 2\n"
     ]
    }
   ],
   "source": [
    "#user can select conversion type\n",
    "print(\"Choose conversion type:\")\n",
    "print(\"1. Celsius to Fahrenheit\")\n",
    "print(\"2. Fahrenheit to Celsius\")\n",
    "choice = input(\"Enter your choice: \")"
   ]
  },
  {
   "cell_type": "code",
   "execution_count": null,
   "id": "11ab9449",
   "metadata": {},
   "outputs": [],
   "source": [
    "# function to perform selected conversion\n",
    "if choice == \"1\":\n",
    "    # Celsius to Fahrenheit\n",
    "    celsius = float(input(\"Enter temperature in Celsius: \"))\n",
    "    fahrenheit = (celsius * 9/5) + 32\n",
    "    print(f\"{celsius}°C is equal to {fahrenheit:.2f}°F\")\n",
    "elif choice == \"2\":"
   ]
  },
  {
   "cell_type": "code",
   "execution_count": null,
   "id": "2e0d0766",
   "metadata": {},
   "outputs": [],
   "source": [
    "fahrenheit = float(input(\"Enter temperature in Fahrenheit: \"))\n",
    "    celsius = (fahrenheit - 32) * 5/9\n",
    "    print(f\"{fahrenheit}°F is equal to {celsius:.2f}°C\")\n",
    "else:\n",
    "    print(\"Invalid choice.\")"
   ]
  }
 ],
 "metadata": {
  "kernelspec": {
   "display_name": "Python 3 (ipykernel)",
   "language": "python",
   "name": "python3"
  },
  "language_info": {
   "codemirror_mode": {
    "name": "ipython",
    "version": 3
   },
   "file_extension": ".py",
   "mimetype": "text/x-python",
   "name": "python",
   "nbconvert_exporter": "python",
   "pygments_lexer": "ipython3",
   "version": "3.11.5"
  }
 },
 "nbformat": 4,
 "nbformat_minor": 5
}
