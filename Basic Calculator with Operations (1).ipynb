{
 "cells": [
  {
   "cell_type": "code",
   "execution_count": 1,
   "id": "4826b6a1",
   "metadata": {},
   "outputs": [
    {
     "name": "stdout",
     "output_type": "stream",
     "text": [
      "Enter the first number: 10\n",
      "Enter the second number: 14\n"
     ]
    }
   ],
   "source": [
    "# Basic Calculator Program\n",
    "#function to get two numbers from the user\n",
    "num1 = float(input(\"Enter the first number: \"))\n",
    "num2 = float(input(\"Enter the second number: \"))"
   ]
  },
  {
   "cell_type": "code",
   "execution_count": 2,
   "id": "46f02312",
   "metadata": {},
   "outputs": [
    {
     "name": "stdout",
     "output_type": "stream",
     "text": [
      "Choose an operation: +, -, *, /\n",
      "Enter operation: +\n"
     ]
    }
   ],
   "source": [
    "#user can pick relevant operation\n",
    "print(\"Choose an operation: +, -, *, /\")\n",
    "operation = input(\"Enter operation: \")"
   ]
  },
  {
   "cell_type": "code",
   "execution_count": 4,
   "id": "47870044",
   "metadata": {},
   "outputs": [],
   "source": [
    "## function to show the selected operation\n",
    "if operation == \"+\":\n",
    "    result = num1 + num2\n",
    "elif operation == \"-\":\n",
    "    result = num1 - num2\n",
    "elif operation == \"*\":\n",
    "    result = num1 * num2\n",
    "elif operation == \"/\":\n",
    "    if num2 != 0:\n",
    "        result = num1 / num2\n",
    "    else:\n",
    "        result = \"undefined (division by zero)\"\n",
    "else:\n",
    "    result = \"Invalid operation\""
   ]
  },
  {
   "cell_type": "code",
   "execution_count": 5,
   "id": "e09e18d4",
   "metadata": {},
   "outputs": [
    {
     "name": "stdout",
     "output_type": "stream",
     "text": [
      "The result is: 24.0\n"
     ]
    }
   ],
   "source": [
    "#function to show the result to user\n",
    "print(f\"The result is: {result}\")"
   ]
  },
  {
   "cell_type": "code",
   "execution_count": null,
   "id": "76c026d5",
   "metadata": {},
   "outputs": [],
   "source": []
  }
 ],
 "metadata": {
  "kernelspec": {
   "display_name": "Python 3 (ipykernel)",
   "language": "python",
   "name": "python3"
  },
  "language_info": {
   "codemirror_mode": {
    "name": "ipython",
    "version": 3
   },
   "file_extension": ".py",
   "mimetype": "text/x-python",
   "name": "python",
   "nbconvert_exporter": "python",
   "pygments_lexer": "ipython3",
   "version": "3.11.5"
  }
 },
 "nbformat": 4,
 "nbformat_minor": 5
}
