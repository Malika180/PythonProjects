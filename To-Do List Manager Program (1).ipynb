{
 "cells": [
  {
   "cell_type": "code",
   "execution_count": 1,
   "id": "57d304a2",
   "metadata": {},
   "outputs": [],
   "source": [
    "#To-Do List Manager Program\n",
    "\n",
    "#dictionary with sample tasks\n",
    "tasks = {\"Buy groceries\": \"Pending\", \"Finish assignment\": \"Pending\", \"Call mom\": \"Done\"}\n"
   ]
  },
  {
   "cell_type": "code",
   "execution_count": null,
   "id": "95a0047f",
   "metadata": {},
   "outputs": [],
   "source": [
    "\n",
    "while True:\n",
    "    print(\"\\nOptions:\\n1. Add a task\\n2. Mark a task as done\\n3. View tasks\\n4. Quit\")\n",
    "    choice = input(\"Enter your choice: \")\n",
    "\n",
    "    if choice == \"1\":\n",
    "        task = input(\"Enter the task description: \")\n",
    "        tasks[task] = \"Pending\"\n",
    "        print(f\"Task '{task}' has been added.\")\n",
    "    elif choice == \"2\":\n",
    "        task = input(\"Enter the task to mark as done: \")\n",
    "        if tasks.get(task):\n",
    "            tasks[task] = \"Done\"\n",
    "            print(f\"Task '{task}' marked as done.\")\n",
    "        else:\n",
    "            print(\"Task not found.\")\n",
    "    elif choice == \"3\":\n",
    "        print(\"\\nTo-Do List:\")\n",
    "        if tasks:\n",
    "            for task, status in tasks.items():\n",
    "                print(f\"- {task}: {status}\")\n",
    "        else:\n",
    "            print(\"No tasks in the list.\")\n",
    "    elif choice == \"4\":\n",
    "        print(\"Goodbye!\")\n",
    "        break\n",
    "    else:\n",
    "        print(\"Invalid choice. Please try again.\")"
   ]
  }
 ],
 "metadata": {
  "kernelspec": {
   "display_name": "Python 3 (ipykernel)",
   "language": "python",
   "name": "python3"
  },
  "language_info": {
   "codemirror_mode": {
    "name": "ipython",
    "version": 3
   },
   "file_extension": ".py",
   "mimetype": "text/x-python",
   "name": "python",
   "nbconvert_exporter": "python",
   "pygments_lexer": "ipython3",
   "version": "3.11.5"
  }
 },
 "nbformat": 4,
 "nbformat_minor": 5
}
