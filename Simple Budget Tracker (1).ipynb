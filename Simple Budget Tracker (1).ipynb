{
 "cells": [
  {
   "cell_type": "code",
   "execution_count": 1,
   "id": "d7228c03",
   "metadata": {},
   "outputs": [
    {
     "name": "stdout",
     "output_type": "stream",
     "text": [
      "Enter your monthly income: 100\n",
      "Enter your total monthly expenses: 50\n"
     ]
    }
   ],
   "source": [
    "# Budget Tracker\n",
    "\n",
    "#user must add monthly income and expenses\n",
    "income = float(input(\"Enter your monthly income: \"))\n",
    "expenses = float(input(\"Enter your total monthly expenses: \"))"
   ]
  },
  {
   "cell_type": "code",
   "execution_count": 5,
   "id": "45fbabdc",
   "metadata": {},
   "outputs": [],
   "source": [
    "#by this user can calculate remain\n",
    "balance = income - expenses"
   ]
  },
  {
   "cell_type": "code",
   "execution_count": 4,
   "id": "9962b6e2",
   "metadata": {},
   "outputs": [
    {
     "name": "stdout",
     "output_type": "stream",
     "text": [
      "Your remaining balance for the month is: $50.00\n"
     ]
    }
   ],
   "source": [
    "#showing remain balance to user\n",
    "print(f\"Your remaining balance for the month is: ${balance:.2f}\")"
   ]
  }
 ],
 "metadata": {
  "kernelspec": {
   "display_name": "Python 3 (ipykernel)",
   "language": "python",
   "name": "python3"
  },
  "language_info": {
   "codemirror_mode": {
    "name": "ipython",
    "version": 3
   },
   "file_extension": ".py",
   "mimetype": "text/x-python",
   "name": "python",
   "nbconvert_exporter": "python",
   "pygments_lexer": "ipython3",
   "version": "3.11.5"
  }
 },
 "nbformat": 4,
 "nbformat_minor": 5
}
