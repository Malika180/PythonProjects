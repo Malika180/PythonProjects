{
 "cells": [
  {
   "cell_type": "code",
   "execution_count": 1,
   "id": "5a86e1ba",
   "metadata": {},
   "outputs": [],
   "source": [
    "# Miles to Kilometers Converter\n",
    "miles_to_km = 1.6"
   ]
  },
  {
   "cell_type": "code",
   "execution_count": 2,
   "id": "3ae34b13",
   "metadata": {},
   "outputs": [
    {
     "name": "stdout",
     "output_type": "stream",
     "text": [
      "Enter distance in miles: 10\n"
     ]
    }
   ],
   "source": [
    "#getting distence in miles from user\n",
    "miles = float(input(\"Enter distance in miles: \"))\n"
   ]
  },
  {
   "cell_type": "code",
   "execution_count": 3,
   "id": "ee7dfa94",
   "metadata": {},
   "outputs": [],
   "source": [
    "#convertation to kilometers\n",
    "kilometers = miles * miles_to_km"
   ]
  },
  {
   "cell_type": "code",
   "execution_count": null,
   "id": "76b4b657",
   "metadata": {},
   "outputs": [],
   "source": [
    "#function shows the result to user\n",
    "print(f\"{miles} miles is equal to {kilometers:.2f} kilometers\")"
   ]
  }
 ],
 "metadata": {
  "kernelspec": {
   "display_name": "Python 3 (ipykernel)",
   "language": "python",
   "name": "python3"
  },
  "language_info": {
   "codemirror_mode": {
    "name": "ipython",
    "version": 3
   },
   "file_extension": ".py",
   "mimetype": "text/x-python",
   "name": "python",
   "nbconvert_exporter": "python",
   "pygments_lexer": "ipython3",
   "version": "3.11.5"
  }
 },
 "nbformat": 4,
 "nbformat_minor": 5
}
