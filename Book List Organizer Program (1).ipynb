{
 "cells": [
  {
   "cell_type": "code",
   "execution_count": 1,
   "id": "84ebe20d",
   "metadata": {},
   "outputs": [],
   "source": [
    "#Book List Organizer\n",
    "#initializing a book titles\n",
    "books = [\"To Kill a Mockingbird\", \"1984\", \"Pride and Prejudice\"]"
   ]
  },
  {
   "cell_type": "code",
   "execution_count": null,
   "id": "a055c372",
   "metadata": {},
   "outputs": [
    {
     "name": "stdout",
     "output_type": "stream",
     "text": [
      "\n",
      "Options:\n",
      "1. Add a book\n",
      "2. Remove a book\n",
      "3. View book list\n",
      "4. Quit\n"
     ]
    }
   ],
   "source": [
    "while True:\n",
    "    print(\"\\nOptions:\\n1. Add a book\\n2. Remove a book\\n3. View book list\\n4. Quit\")\n",
    "    choice = input(\"Enter your choice: \")"
   ]
  },
  {
   "cell_type": "code",
   "execution_count": null,
   "id": "1191efac",
   "metadata": {},
   "outputs": [],
   "source": [
    "# function to add a book to the list\n",
    "    if choice == \"1\":\n",
    "        # Add a book to the list\n",
    "        book = input(\"Enter the book title to add: \")\n",
    "        books.append(book)\n",
    "        print(f\"'{book}' has been added.\")\n",
    "    elif choice == \"2\":"
   ]
  },
  {
   "cell_type": "code",
   "execution_count": null,
   "id": "59b53f5b",
   "metadata": {},
   "outputs": [],
   "source": [
    "#function to remove a book from the list\n",
    "\n",
    "book = input(\"Enter the book title to remove: \")\n",
    "        if book in books:\n",
    "            books.remove(book)\n",
    "            print(f\"'{book}' has been removed.\")\n",
    "        else:\n",
    "            print(\"Book not found.\")\n",
    "    elif choice == \"3\":"
   ]
  },
  {
   "cell_type": "code",
   "execution_count": null,
   "id": "2f83c290",
   "metadata": {},
   "outputs": [],
   "source": [
    " #function to see the book list\n",
    "    print(\"\\nYour Book List:\")\n",
    "        if books:\n",
    "            print(\"\\n\".join(f\"- {book}\" for book in books))\n",
    "        else:\n",
    "            print(\"No books in your list.\")\n",
    "    elif choice == \"4\":\n",
    "        print(\"Goodbye!\")\n",
    "        break\n",
    "    else:\n",
    "        print(\"Invalid choice. Please try again.\")"
   ]
  }
 ],
 "metadata": {
  "kernelspec": {
   "display_name": "Python 3 (ipykernel)",
   "language": "python",
   "name": "python3"
  },
  "language_info": {
   "codemirror_mode": {
    "name": "ipython",
    "version": 3
   },
   "file_extension": ".py",
   "mimetype": "text/x-python",
   "name": "python",
   "nbconvert_exporter": "python",
   "pygments_lexer": "ipython3",
   "version": "3.11.5"
  }
 },
 "nbformat": 4,
 "nbformat_minor": 5
}
